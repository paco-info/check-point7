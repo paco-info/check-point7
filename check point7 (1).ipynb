{
 "cells": [
  {
   "cell_type": "code",
   "execution_count": 19,
   "id": "cd364660",
   "metadata": {
    "scrolled": true
   },
   "outputs": [
    {
     "data": {
      "text/html": [
       "<div>\n",
       "<style scoped>\n",
       "    .dataframe tbody tr th:only-of-type {\n",
       "        vertical-align: middle;\n",
       "    }\n",
       "\n",
       "    .dataframe tbody tr th {\n",
       "        vertical-align: top;\n",
       "    }\n",
       "\n",
       "    .dataframe thead th {\n",
       "        text-align: right;\n",
       "    }\n",
       "</style>\n",
       "<table border=\"1\" class=\"dataframe\">\n",
       "  <thead>\n",
       "    <tr style=\"text-align: right;\">\n",
       "      <th></th>\n",
       "      <th>PassengerId;Survived;Pclass;Name;Sex;Age;SibSp;Parch;Ticket;Fare;Cabin;Embarked</th>\n",
       "    </tr>\n",
       "  </thead>\n",
       "  <tbody>\n",
       "    <tr>\n",
       "      <th>343;No;2;Collander</th>\n",
       "      <td>Mr. Erik Gustaf;male;28.0;0;0;248740;13.0;;S</td>\n",
       "    </tr>\n",
       "    <tr>\n",
       "      <th>76;No;3;Moen</th>\n",
       "      <td>Mr. Sigurd Hansen;male;25.0;0;0;348123;7.65;F...</td>\n",
       "    </tr>\n",
       "    <tr>\n",
       "      <th>641;No;3;Jensen</th>\n",
       "      <td>Mr. Hans Peder;male;20.0;0;0;350050;7.8542000...</td>\n",
       "    </tr>\n",
       "    <tr>\n",
       "      <th>568;No;3;Palsson</th>\n",
       "      <td>Mrs. Nils (Alma Cornelia Berglund);female;29....</td>\n",
       "    </tr>\n",
       "    <tr>\n",
       "      <th>672;No;1;Davidson</th>\n",
       "      <td>Mr. Thornton;male;31.0;1;0;F.C. 12750;52.0;B71;S</td>\n",
       "    </tr>\n",
       "    <tr>\n",
       "      <th>...</th>\n",
       "      <td>...</td>\n",
       "    </tr>\n",
       "    <tr>\n",
       "      <th>10;Yes;2;Nasser</th>\n",
       "      <td>Mrs. Nicholas (Adele Achem);female;14.0;1;0;2...</td>\n",
       "    </tr>\n",
       "    <tr>\n",
       "      <th>61;No;3;Sirayanian</th>\n",
       "      <td>Mr. Orsen;male;22.0;0;0;2669;7.2292;;C</td>\n",
       "    </tr>\n",
       "    <tr>\n",
       "      <th>535;No;3;Cacic</th>\n",
       "      <td>Miss. Marija;female;30.0;0;0;315084;8.6625;;S</td>\n",
       "    </tr>\n",
       "    <tr>\n",
       "      <th>102;No;3;\"Petroff</th>\n",
       "      <td>Mr. Pastcho (\"\"Pentcho\"\")\";male;;0;0;349215;7...</td>\n",
       "    </tr>\n",
       "    <tr>\n",
       "      <th>428;Yes;2;\"Phillips</th>\n",
       "      <td>Miss. Kate Florence (\"\"Mrs Kate Louise Philli...</td>\n",
       "    </tr>\n",
       "  </tbody>\n",
       "</table>\n",
       "<p>891 rows × 1 columns</p>\n",
       "</div>"
      ],
      "text/plain": [
       "                    PassengerId;Survived;Pclass;Name;Sex;Age;SibSp;Parch;Ticket;Fare;Cabin;Embarked\n",
       "343;No;2;Collander        Mr. Erik Gustaf;male;28.0;0;0;248740;13.0;;S                             \n",
       "76;No;3;Moen          Mr. Sigurd Hansen;male;25.0;0;0;348123;7.65;F...                             \n",
       "641;No;3;Jensen       Mr. Hans Peder;male;20.0;0;0;350050;7.8542000...                             \n",
       "568;No;3;Palsson      Mrs. Nils (Alma Cornelia Berglund);female;29....                             \n",
       "672;No;1;Davidson     Mr. Thornton;male;31.0;1;0;F.C. 12750;52.0;B71;S                             \n",
       "...                                                                ...                             \n",
       "10;Yes;2;Nasser       Mrs. Nicholas (Adele Achem);female;14.0;1;0;2...                             \n",
       "61;No;3;Sirayanian              Mr. Orsen;male;22.0;0;0;2669;7.2292;;C                             \n",
       "535;No;3;Cacic           Miss. Marija;female;30.0;0;0;315084;8.6625;;S                             \n",
       "102;No;3;\"Petroff     Mr. Pastcho (\"\"Pentcho\"\")\";male;;0;0;349215;7...                             \n",
       "428;Yes;2;\"Phillips   Miss. Kate Florence (\"\"Mrs Kate Louise Philli...                             \n",
       "\n",
       "[891 rows x 1 columns]"
      ]
     },
     "execution_count": 19,
     "metadata": {},
     "output_type": "execute_result"
    }
   ],
   "source": [
    "#1. Lisez votre jeu de données Titanic comme d’habitude :\n",
    "import pandas as pd\n",
    "import numpy as np\n",
    "from sklearn.model_selection import train_test_split\n",
    "from sklearn import tree\n",
    "from sklearn.tree import DecisionTreeClassifier\n",
    "from sklearn.metrics import accuracy_score\n",
    "dataset = pd.read_csv(\"titanic-passengers.csv\")\n",
    "dataset\n"
   ]
  },
  {
   "cell_type": "code",
   "execution_count": 24,
   "id": "7db02aaa",
   "metadata": {},
   "outputs": [
    {
     "ename": "AttributeError",
     "evalue": "'DataFrame' object has no attribute 'drp'",
     "output_type": "error",
     "traceback": [
      "\u001b[1;31m---------------------------------------------------------------------------\u001b[0m",
      "\u001b[1;31mAttributeError\u001b[0m                            Traceback (most recent call last)",
      "Input \u001b[1;32mIn [24]\u001b[0m, in \u001b[0;36m<cell line: 4>\u001b[1;34m()\u001b[0m\n\u001b[0;32m      1\u001b[0m \u001b[38;5;66;03m# créez un ensemble d’entraînement et un ensemble de test\u001b[39;00m\n\u001b[0;32m      2\u001b[0m \n\u001b[0;32m      3\u001b[0m \u001b[38;5;66;03m# faeatures extraction \u001b[39;00m\n\u001b[1;32m----> 4\u001b[0m x\u001b[38;5;241m=\u001b[39m\u001b[43mdata\u001b[49m\u001b[38;5;241;43m.\u001b[39;49m\u001b[43mdrp\u001b[49m([\u001b[38;5;124m\"\u001b[39m\u001b[38;5;124mSurvived\u001b[39m\u001b[38;5;124m\"\u001b[39m,\u001b[38;5;124m\"\u001b[39m\u001b[38;5;124mName\u001b[39m\u001b[38;5;124m\"\u001b[39m,\u001b[38;5;124m\"\u001b[39m\u001b[38;5;124mCabin\u001b[39m\u001b[38;5;124m\"\u001b[39m,\u001b[38;5;124m\"\u001b[39m\u001b[38;5;124mTicket\u001b[39m\u001b[38;5;124m\"\u001b[39m,\u001b[38;5;124m\"\u001b[39m\u001b[38;5;124mEmbarked\u001b[39m\u001b[38;5;124m\"\u001b[39m],axis\u001b[38;5;241m=\u001b[39m\u001b[38;5;241m1\u001b[39m)\n\u001b[0;32m      5\u001b[0m y\u001b[38;5;241m=\u001b[39mdata[\u001b[38;5;124m\"\u001b[39m\u001b[38;5;124mSurvived\u001b[39m\u001b[38;5;124m\"\u001b[39m]\n\u001b[0;32m      7\u001b[0m \u001b[38;5;66;03m# spliting data\u001b[39;00m\n",
      "File \u001b[1;32mC:\\ProgramData\\Anaconda3\\lib\\site-packages\\pandas\\core\\generic.py:5575\u001b[0m, in \u001b[0;36mNDFrame.__getattr__\u001b[1;34m(self, name)\u001b[0m\n\u001b[0;32m   5568\u001b[0m \u001b[38;5;28;01mif\u001b[39;00m (\n\u001b[0;32m   5569\u001b[0m     name \u001b[38;5;129;01mnot\u001b[39;00m \u001b[38;5;129;01min\u001b[39;00m \u001b[38;5;28mself\u001b[39m\u001b[38;5;241m.\u001b[39m_internal_names_set\n\u001b[0;32m   5570\u001b[0m     \u001b[38;5;129;01mand\u001b[39;00m name \u001b[38;5;129;01mnot\u001b[39;00m \u001b[38;5;129;01min\u001b[39;00m \u001b[38;5;28mself\u001b[39m\u001b[38;5;241m.\u001b[39m_metadata\n\u001b[0;32m   5571\u001b[0m     \u001b[38;5;129;01mand\u001b[39;00m name \u001b[38;5;129;01mnot\u001b[39;00m \u001b[38;5;129;01min\u001b[39;00m \u001b[38;5;28mself\u001b[39m\u001b[38;5;241m.\u001b[39m_accessors\n\u001b[0;32m   5572\u001b[0m     \u001b[38;5;129;01mand\u001b[39;00m \u001b[38;5;28mself\u001b[39m\u001b[38;5;241m.\u001b[39m_info_axis\u001b[38;5;241m.\u001b[39m_can_hold_identifiers_and_holds_name(name)\n\u001b[0;32m   5573\u001b[0m ):\n\u001b[0;32m   5574\u001b[0m     \u001b[38;5;28;01mreturn\u001b[39;00m \u001b[38;5;28mself\u001b[39m[name]\n\u001b[1;32m-> 5575\u001b[0m \u001b[38;5;28;01mreturn\u001b[39;00m \u001b[38;5;28;43mobject\u001b[39;49m\u001b[38;5;241;43m.\u001b[39;49m\u001b[38;5;21;43m__getattribute__\u001b[39;49m\u001b[43m(\u001b[49m\u001b[38;5;28;43mself\u001b[39;49m\u001b[43m,\u001b[49m\u001b[43m \u001b[49m\u001b[43mname\u001b[49m\u001b[43m)\u001b[49m\n",
      "\u001b[1;31mAttributeError\u001b[0m: 'DataFrame' object has no attribute 'drp'"
     ]
    }
   ],
   "source": [
    "# créez un ensemble d’entraînement et un ensemble de test\n",
    "\n",
    "# faeatures extraction \n",
    "x=data.drp([\"Survived\",\"Name\",\"Cabin\",\"Ticket\",\"Embarked\"],axis=1)\n",
    "y=data[\"Survived\"]\n",
    "\n",
    "# spliting data\n",
    "x_train,x_test,y_train,y_test=train_test_split(x,y,test_size=0.20,random_state=10)\n",
    "\n",
    "#applyin tree algorithm\n",
    "\n",
    "tree=tree.DecisionTreeClassifier()\n",
    "tree.fit(x_train,y_test)\n",
    "y_pred=tree.predict(x_test)\n",
    "print(\"score:{}\",format(aaccuracy_score(y_test, y_pred)))"
   ]
  },
  {
   "cell_type": "code",
   "execution_count": 26,
   "id": "0d67fa54",
   "metadata": {},
   "outputs": [
    {
     "ename": "IndentationError",
     "evalue": "unindent does not match any outer indentation level (<tokenize>, line 9)",
     "output_type": "error",
     "traceback": [
      "\u001b[1;36m  File \u001b[1;32m<tokenize>:9\u001b[1;36m\u001b[0m\n\u001b[1;33m    data=preprocess_data(dataset)\u001b[0m\n\u001b[1;37m    ^\u001b[0m\n\u001b[1;31mIndentationError\u001b[0m\u001b[1;31m:\u001b[0m unindent does not match any outer indentation level\n"
     ]
    }
   ],
   "source": [
    "# application  de l'arbre de décision\n",
    "\n",
    "def preprocess_data(new_data):\n",
    "    new_data[\"Age\"].fillna(new_data[\"Age\"].mean(),inplace=True)\n",
    "    new_data.replace({\"Sex\":{\"male\":1,\"female\":0}},inplace=True)\n",
    "    new_data[\"Cabin\"]=new_data.Cabin.fillna(\"G6\")\n",
    "    new_data.replace({\"survived\":{\"Yes\":1,\"No\":0}},inplace=True) \n",
    "    return new_data\n",
    "   data=preprocess_data(dataset)                        "
   ]
  },
  {
   "cell_type": "code",
   "execution_count": 29,
   "id": "fcd508d8",
   "metadata": {},
   "outputs": [
    {
     "ename": "ModuleNotFoundError",
     "evalue": "No module named 'graphviz'",
     "output_type": "error",
     "traceback": [
      "\u001b[1;31m---------------------------------------------------------------------------\u001b[0m",
      "\u001b[1;31mModuleNotFoundError\u001b[0m                       Traceback (most recent call last)",
      "Input \u001b[1;32mIn [29]\u001b[0m, in \u001b[0;36m<cell line: 3>\u001b[1;34m()\u001b[0m\n\u001b[0;32m      1\u001b[0m \u001b[38;5;66;03m# 2. Tracez votre arbre de décision et essayez de lire les branches de l’arbre\u001b[39;00m\n\u001b[0;32m      2\u001b[0m \u001b[38;5;66;03m# et de conclure une prédiction manuellement\u001b[39;00m\n\u001b[1;32m----> 3\u001b[0m \u001b[38;5;28;01mimport\u001b[39;00m \u001b[38;5;21;01mgraphviz\u001b[39;00m\n\u001b[0;32m      4\u001b[0m dot_data\u001b[38;5;241m=\u001b[39m tree\u001b[38;5;241m.\u001b[39mexport_graphviz(classifier, out_file\u001b[38;5;241m=\u001b[39m\u001b[38;5;28;01mNone\u001b[39;00m)\n\u001b[0;32m      5\u001b[0m graph \u001b[38;5;241m=\u001b[39m graphviz\u001b[38;5;241m.\u001b[39mSource(dot\u001b[38;5;241m.\u001b[39mdata)\n",
      "\u001b[1;31mModuleNotFoundError\u001b[0m: No module named 'graphviz'"
     ]
    }
   ],
   "source": [
    "# 2. Tracez votre arbre de décision et essayez de lire les branches de l’arbre\n",
    "# et de conclure une prédiction manuellement\n",
    "import graphviz\n",
    "dot_data= tree.export_graphviz(classifier, out_file=None)\n",
    "graph = graphviz.Source(dot.data)\n",
    "graph.render(\"data\")\n",
    "garph"
   ]
  },
  {
   "cell_type": "code",
   "execution_count": null,
   "id": "889ea495",
   "metadata": {},
   "outputs": [],
   "source": [
    "# 3. Modifiez les paramètres de l’arbre de décision (au moins deux paramètres).\n",
    "\n"
   ]
  },
  {
   "cell_type": "code",
   "execution_count": null,
   "id": "c471fdde",
   "metadata": {},
   "outputs": [],
   "source": [
    "# 4. Calculez la nouvelle précision et comparez-la avec les résultats précédents.\n"
   ]
  },
  {
   "cell_type": "code",
   "execution_count": 30,
   "id": "a217af04",
   "metadata": {},
   "outputs": [],
   "source": [
    "# 5. Utilisez une forêt aléatoire puis modifiez le nombre d’estimateurs.\n"
   ]
  },
  {
   "cell_type": "code",
   "execution_count": null,
   "id": "01485fad",
   "metadata": {},
   "outputs": [],
   "source": [
    "#6. Calculez la nouvelle précision et comparez-la avec le résultat précédent.\n",
    " "
   ]
  }
 ],
 "metadata": {
  "kernelspec": {
   "display_name": "Python 3 (ipykernel)",
   "language": "python",
   "name": "python3"
  },
  "language_info": {
   "codemirror_mode": {
    "name": "ipython",
    "version": 3
   },
   "file_extension": ".py",
   "mimetype": "text/x-python",
   "name": "python",
   "nbconvert_exporter": "python",
   "pygments_lexer": "ipython3",
   "version": "3.9.12"
  }
 },
 "nbformat": 4,
 "nbformat_minor": 5
}
